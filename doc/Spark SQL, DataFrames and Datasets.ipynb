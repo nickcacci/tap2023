{
 "cells": [
  {
   "cell_type": "markdown",
   "metadata": {
    "slideshow": {
     "slide_type": "slide"
    }
   },
   "source": [
    "#  Spark SQL, DataFrames and Datasets Guide\n",
    "\n",
    "https://spark.apache.org/docs/latest/sql-programming-guide.html"
   ]
  },
  {
   "cell_type": "markdown",
   "metadata": {
    "slideshow": {
     "slide_type": "subslide"
    }
   },
   "source": [
    "# Originally\n",
    "\n",
    "RDD was the primary user-facing API in Spark since its inception."
   ]
  },
  {
   "cell_type": "markdown",
   "metadata": {
    "slideshow": {
     "slide_type": "fragment"
    }
   },
   "source": [
    "At the core, an RDD is:"
   ]
  },
  {
   "cell_type": "markdown",
   "metadata": {
    "slideshow": {
     "slide_type": "fragment"
    }
   },
   "source": [
    "- an immutable distributed collection of elements of your data,"
   ]
  },
  {
   "cell_type": "markdown",
   "metadata": {
    "slideshow": {
     "slide_type": "fragment"
    }
   },
   "source": [
    "- partitioned across nodes in your cluster that can be operated in parallel "
   ]
  },
  {
   "cell_type": "markdown",
   "metadata": {
    "slideshow": {
     "slide_type": "fragment"
    }
   },
   "source": [
    "- with a low-level API that offers transformations and actions."
   ]
  },
  {
   "cell_type": "markdown",
   "metadata": {
    "slideshow": {
     "slide_type": "subslide"
    }
   },
   "source": [
    "# Is that enough ?"
   ]
  },
  {
   "cell_type": "markdown",
   "metadata": {
    "slideshow": {
     "slide_type": "fragment"
    }
   },
   "source": [
    "![](https://i.imgflip.com/566dsy.jpg)\n",
    "\n",
    "[NicsMeme](https://imgflip.com/i/566dsy)"
   ]
  },
  {
   "cell_type": "markdown",
   "metadata": {
    "slideshow": {
     "slide_type": "subslide"
    }
   },
   "source": [
    "![](https://i.imgflip.com/6eibrt.jpg)"
   ]
  },
  {
   "cell_type": "markdown",
   "metadata": {
    "slideshow": {
     "slide_type": "subslide"
    }
   },
   "source": [
    "# Spark SQL\n",
    "Spark SQL is a Spark module for **structured data processing**. \n",
    "\n",
    "Unlike the basic Spark RDD API, the interfaces provided by Spark SQL provide Spark with more information about the structure of both the data and the computation being performed. Internally, Spark SQL uses this extra information to perform extra optimizations. \n",
    "\n",
    "There are several ways to interact with Spark SQL including **SQL** and the **Dataset API**. \n",
    "\n",
    "When computing a result, the same execution engine is used, independent of which API/language you are using to express the computation. This unification means that developers can easily switch back and forth between different APIs based on which provides the most natural way to express a given transformation."
   ]
  },
  {
   "cell_type": "markdown",
   "metadata": {
    "slideshow": {
     "slide_type": "subslide"
    }
   },
   "source": [
    "# Dataset\n",
    "\n",
    "A Dataset is a distributed collection of data. \n",
    "\n",
    "Dataset is a new interface added in Spark 1.6 that provides the benefits of RDDs (strong typing, ability to use powerful lambda functions) with the benefits of Spark SQL’s optimized execution engine. \n",
    "\n",
    "A Dataset can be constructed from JVM objects and then manipulated using functional transformations (map, flatMap, filter, etc.). \n",
    "\n",
    "The Dataset API is available in Scala and Java. Python does not have the support for the Dataset API. But due to Python’s dynamic nature, many of the benefits of the Dataset API are already available (i.e. you can access the field of a row by name naturally row.columnName). The case for R is similar"
   ]
  },
  {
   "cell_type": "markdown",
   "metadata": {
    "slideshow": {
     "slide_type": "subslide"
    }
   },
   "source": [
    "# Data Frame\n",
    "\n",
    "A DataFrame is a Dataset organized into named columns. \n",
    "\n",
    "It is conceptually equivalent to a table in a relational database or a data frame in R/Python, but with richer optimizations under the hood. \n",
    "\n",
    "DataFrames can be constructed from a wide array of sources such as: structured data files, tables in Hive, external databases, or existing RDDs. \n",
    "\n",
    "The DataFrame API is available in Scala, Java, Python, and R. \n",
    "In Scala and Java, a DataFrame is represented by a Dataset of Rows. \n"
   ]
  },
  {
   "cell_type": "markdown",
   "metadata": {},
   "source": [
    "# Yet another definition of DataFrames \n",
    "\n",
    "The concept of a DataFrame is common across many different languages and frameworks. DataFrames are the main data type used in pandas, the popular Python data analysis library, and DataFrames are also used in R, Scala, and other languages."
   ]
  },
  {
   "cell_type": "markdown",
   "metadata": {
    "cell_style": "split",
    "slideshow": {
     "slide_type": "fragment"
    }
   },
   "source": [
    "Every DataFrame contains a blueprint, known as a schema, that defines the name and data type of each column. Spark DataFrames can contain universal data types like StringType and IntegerType, as well as data types that are specific to Spark, such as StructType. Missing or incomplete values are stored as null values in the DataFrame."
   ]
  },
  {
   "cell_type": "markdown",
   "metadata": {
    "cell_style": "split",
    "slideshow": {
     "slide_type": "fragment"
    }
   },
   "source": [
    "![](https://www.databricks.com/wp-content/uploads/2018/05/DataFrames.png)\n",
    "\n",
    "Dataframe representation\n"
   ]
  },
  {
   "cell_type": "markdown",
   "metadata": {
    "cell_style": "split",
    "slideshow": {
     "slide_type": "subslide"
    }
   },
   "source": [
    "A simple analogy is that a DataFrame is like a spreadsheet with named columns. However, the difference between them is that while a spreadsheet sits on one computer in one specific location, a DataFrame can span thousands of computers. In this way, DataFrames make it possible to do analytics on big data, using distributed computing clusters."
   ]
  },
  {
   "cell_type": "markdown",
   "metadata": {
    "cell_style": "split",
    "slideshow": {
     "slide_type": "fragment"
    }
   },
   "source": [
    "![](https://upload.wikimedia.org/wikipedia/commons/thumb/7/7a/Visicalc.png/440px-Visicalc.png)"
   ]
  },
  {
   "cell_type": "markdown",
   "metadata": {
    "cell_style": "split",
    "slideshow": {
     "slide_type": "subslide"
    }
   },
   "source": [
    "The reason for putting the data on more than one computer should be intuitive: either the data is too large to fit on one machine or it would simply take too long to perform that computation on one machine."
   ]
  },
  {
   "cell_type": "markdown",
   "metadata": {
    "cell_style": "split",
    "slideshow": {
     "slide_type": "fragment"
    }
   },
   "source": [
    "![](https://intellipaat.com/mediaFiles/2015/08/Resilient-Distributed-Datasets-RDDs.jpg)\n",
    "\n",
    "https://intellipaat.com/blog/tutorial/spark-tutorial/programming-with-rdds/"
   ]
  },
  {
   "cell_type": "markdown",
   "metadata": {
    "slideshow": {
     "slide_type": "subslide"
    }
   },
   "source": [
    "# When to use RDDs?\n",
    " \n",
    "Consider these scenarios or common use cases for using RDDs when:"
   ]
  },
  {
   "cell_type": "markdown",
   "metadata": {
    "slideshow": {
     "slide_type": "subslide"
    }
   },
   "source": [
    "**Pro**"
   ]
  },
  {
   "cell_type": "markdown",
   "metadata": {
    "slideshow": {
     "slide_type": "fragment"
    }
   },
   "source": [
    "- you want low-level transformation and actions and control on your dataset;"
   ]
  },
  {
   "cell_type": "markdown",
   "metadata": {
    "slideshow": {
     "slide_type": "fragment"
    }
   },
   "source": [
    "- your data is unstructured, such as media streams or streams of text;"
   ]
  },
  {
   "cell_type": "markdown",
   "metadata": {
    "slideshow": {
     "slide_type": "fragment"
    }
   },
   "source": [
    "- you want to manipulate your data with functional programming constructs than domain specific expressions;"
   ]
  },
  {
   "cell_type": "markdown",
   "metadata": {
    "slideshow": {
     "slide_type": "subslide"
    }
   },
   "source": [
    "**Contra**"
   ]
  },
  {
   "cell_type": "markdown",
   "metadata": {
    "slideshow": {
     "slide_type": "fragment"
    }
   },
   "source": [
    "- you don’t care about imposing a schema, such as columnar format, while processing or accessing data attributes by name or column; "
   ]
  },
  {
   "cell_type": "markdown",
   "metadata": {
    "slideshow": {
     "slide_type": "fragment"
    }
   },
   "source": [
    "- you can forgot some optimization and performance benefits available with DataFrames and Datasets for structured and semi-structured data."
   ]
  },
  {
   "cell_type": "markdown",
   "metadata": {
    "slideshow": {
     "slide_type": "subslide"
    }
   },
   "source": [
    "![](https://databricks.com/wp-content/uploads/2016/07/memory-usage-when-caching-datasets-vs-rdds.png)"
   ]
  },
  {
   "cell_type": "markdown",
   "metadata": {
    "slideshow": {
     "slide_type": "subslide"
    }
   },
   "source": [
    "# We love types"
   ]
  },
  {
   "cell_type": "markdown",
   "metadata": {
    "slideshow": {
     "slide_type": "subslide"
    }
   },
   "source": [
    "![](https://cdn2.hexlet.io/derivations/image/original/eyJpZCI6IjFkMDUwZmZhNGIwNGMxMzU3ZTI0M2UwMDlhYWI1ZmZmLnBuZyIsInN0b3JhZ2UiOiJjYWNoZSJ9?signature=356de17911b2b04657ed56dd6f6b884e5ad82e5def90d2adf8c72bdbe0b05213)"
   ]
  },
  {
   "cell_type": "markdown",
   "metadata": {
    "slideshow": {
     "slide_type": "subslide"
    }
   },
   "source": [
    "# Evolution"
   ]
  },
  {
   "cell_type": "markdown",
   "metadata": {
    "slideshow": {
     "slide_type": "subslide"
    }
   },
   "source": [
    "![](images/human-evolution-monkey-modern-man-programmer-computer-user-isolated-white_33099-1593.jpg)"
   ]
  },
  {
   "cell_type": "markdown",
   "metadata": {
    "slideshow": {
     "slide_type": "subslide"
    }
   },
   "source": [
    "![](https://image.slidesharecdn.com/jumpstartintoapachesparkanddatabricks-160212150759/95/jump-start-into-apache-spark-and-databricks-13-638.jpg?cb=1463623478)"
   ]
  },
  {
   "cell_type": "markdown",
   "metadata": {
    "slideshow": {
     "slide_type": "subslide"
    }
   },
   "source": [
    "![](https://databricks.com/wp-content/uploads/2016/06/Unified-Apache-Spark-2.0-API-1.png)"
   ]
  },
  {
   "cell_type": "markdown",
   "metadata": {
    "slideshow": {
     "slide_type": "subslide"
    }
   },
   "source": [
    "# When should I use DataFrames or RDD?\n",
    "\n",
    "- If you want rich semantics, high-level abstractions, and domain specific APIs, use DataFrame or Dataset.\n",
    "- If your processing demands high-level expressions, filters, maps, aggregation, averages, sum, SQL queries, columnar access and use of lambda functions on semi-structured data, use DataFrame or Dataset.\n",
    "- If you want higher degree of type-safety at compile time, want typed JVM objects, take advantage of Catalyst optimization, and benefit from Tungsten’s efficient code generation, use Dataset.\n",
    "- If you want unification and simplification of APIs across Spark Libraries, use DataFrame or Dataset.\n",
    "- If you are a R user, use DataFrames.\n",
    "- If you are a Python user, use DataFrames and resort back to RDDs if you need more control."
   ]
  },
  {
   "cell_type": "markdown",
   "metadata": {
    "slideshow": {
     "slide_type": "slide"
    }
   },
   "source": [
    "# A nice comparison"
   ]
  },
  {
   "cell_type": "markdown",
   "metadata": {
    "slideshow": {
     "slide_type": "subslide"
    }
   },
   "source": [
    "https://data-flair.training/blogs/apache-spark-rdd-vs-dataframe-vs-dataset/"
   ]
  },
  {
   "cell_type": "markdown",
   "metadata": {
    "slideshow": {
     "slide_type": "slide"
    }
   },
   "source": [
    "# Demo"
   ]
  },
  {
   "cell_type": "markdown",
   "metadata": {
    "slideshow": {
     "slide_type": "subslide"
    }
   },
   "source": [
    "# Data Frame Example\n",
    "https://databricks-prod-cloudfront.cloud.databricks.com/public/4027ec902e239c93eaaa8714f173bcfc/1408031979081866/3119543398385477/2956912205716139/latest.html"
   ]
  },
  {
   "cell_type": "markdown",
   "metadata": {},
   "source": [
    "## Flights Example\n",
    "https://databricks-prod-cloudfront.cloud.databricks.com/public/4027ec902e239c93eaaa8714f173bcfc/1408031979081866/4241690966276695/2956912205716139/latest.html"
   ]
  },
  {
   "cell_type": "code",
   "execution_count": 1,
   "metadata": {
    "slideshow": {
     "slide_type": "subslide"
    }
   },
   "outputs": [
    {
     "data": {
      "text/plain": [
       "<module 'findspark' from '/Users/nics/miniforge3/lib/python3.9/site-packages/findspark.py'>"
      ]
     },
     "execution_count": 1,
     "metadata": {},
     "output_type": "execute_result"
    }
   ],
   "source": [
    "import findspark\n",
    "import pyspark\n",
    "findspark.find( ) \n",
    "findspark"
   ]
  },
  {
   "cell_type": "code",
   "execution_count": 2,
   "metadata": {
    "slideshow": {
     "slide_type": "fragment"
    }
   },
   "outputs": [
    {
     "name": "stderr",
     "output_type": "stream",
     "text": [
      "Using Spark's default log4j profile: org/apache/spark/log4j-defaults.properties\n",
      "Setting default log level to \"WARN\".\n",
      "To adjust logging level use sc.setLogLevel(newLevel). For SparkR, use setLogLevel(newLevel).\n",
      "22/05/02 15:35:51 WARN NativeCodeLoader: Unable to load native-hadoop library for your platform... using builtin-java classes where applicable\n"
     ]
    }
   ],
   "source": [
    "from pyspark.sql import SparkSession\n",
    "spark = SparkSession.builder.appName(\"TapDataFrame\").getOrCreate()"
   ]
  },
  {
   "cell_type": "code",
   "execution_count": 3,
   "metadata": {},
   "outputs": [
    {
     "data": {
      "text/html": [
       "\n",
       "            <div>\n",
       "                <p><b>SparkSession - in-memory</b></p>\n",
       "                \n",
       "        <div>\n",
       "            <p><b>SparkContext</b></p>\n",
       "\n",
       "            <p><a href=\"http://192.168.16.73:4040\">Spark UI</a></p>\n",
       "\n",
       "            <dl>\n",
       "              <dt>Version</dt>\n",
       "                <dd><code>v3.2.1</code></dd>\n",
       "              <dt>Master</dt>\n",
       "                <dd><code>local[*]</code></dd>\n",
       "              <dt>AppName</dt>\n",
       "                <dd><code>TapDataFrame</code></dd>\n",
       "            </dl>\n",
       "        </div>\n",
       "        \n",
       "            </div>\n",
       "        "
      ],
      "text/plain": [
       "<pyspark.sql.session.SparkSession at 0x126427fa0>"
      ]
     },
     "execution_count": 3,
     "metadata": {},
     "output_type": "execute_result"
    }
   ],
   "source": [
    "spark"
   ]
  },
  {
   "cell_type": "code",
   "execution_count": 4,
   "metadata": {},
   "outputs": [
    {
     "data": {
      "text/plain": [
       "DataFrame[Year: int, City: string, Sport: string, Discipline: string, Athlete: string, Country: string, Gender: string, Event: string, Medal: string]"
      ]
     },
     "execution_count": 4,
     "metadata": {},
     "output_type": "execute_result"
    }
   ],
   "source": [
    "file = \"/Users/nics/Dev/GitHub/tap2022/spark/dataset/olympic-games/summer.csv\"  # Should be some file on your system\n",
    "dataset = spark.read.option(\"Header\",True).option(\"inferSchema\",True).csv(file)\n",
    "dataset"
   ]
  },
  {
   "cell_type": "code",
   "execution_count": 5,
   "metadata": {},
   "outputs": [
    {
     "data": {
      "text/plain": [
       "31165"
      ]
     },
     "execution_count": 5,
     "metadata": {},
     "output_type": "execute_result"
    }
   ],
   "source": [
    "dataset.count()"
   ]
  },
  {
   "cell_type": "code",
   "execution_count": 6,
   "metadata": {},
   "outputs": [
    {
     "data": {
      "text/plain": [
       "[('Year', 'int'),\n",
       " ('City', 'string'),\n",
       " ('Sport', 'string'),\n",
       " ('Discipline', 'string'),\n",
       " ('Athlete', 'string'),\n",
       " ('Country', 'string'),\n",
       " ('Gender', 'string'),\n",
       " ('Event', 'string'),\n",
       " ('Medal', 'string')]"
      ]
     },
     "execution_count": 6,
     "metadata": {},
     "output_type": "execute_result"
    }
   ],
   "source": [
    "dataset.dtypes"
   ]
  },
  {
   "cell_type": "code",
   "execution_count": 7,
   "metadata": {},
   "outputs": [
    {
     "name": "stdout",
     "output_type": "stream",
     "text": [
      "root\n",
      " |-- Year: integer (nullable = true)\n",
      " |-- City: string (nullable = true)\n",
      " |-- Sport: string (nullable = true)\n",
      " |-- Discipline: string (nullable = true)\n",
      " |-- Athlete: string (nullable = true)\n",
      " |-- Country: string (nullable = true)\n",
      " |-- Gender: string (nullable = true)\n",
      " |-- Event: string (nullable = true)\n",
      " |-- Medal: string (nullable = true)\n",
      "\n"
     ]
    }
   ],
   "source": [
    "dataset.printSchema()"
   ]
  },
  {
   "cell_type": "code",
   "execution_count": 9,
   "metadata": {},
   "outputs": [
    {
     "data": {
      "text/plain": [
       "[Row(City='London', Discipline='Wrestling Freestyle'),\n",
       " Row(City='London', Discipline='Wrestling Freestyle'),\n",
       " Row(City='London', Discipline='Wrestling Freestyle'),\n",
       " Row(City='London', Discipline='Wrestling Freestyle'),\n",
       " Row(City='London', Discipline='Wrestling Freestyle'),\n",
       " Row(City='London', Discipline='Wrestling Freestyle'),\n",
       " Row(City='London', Discipline='Wrestling Freestyle'),\n",
       " Row(City='London', Discipline='Wrestling Freestyle'),\n",
       " Row(City='London', Discipline='Wrestling Freestyle'),\n",
       " Row(City='London', Discipline='Wrestling Freestyle')]"
      ]
     },
     "execution_count": 9,
     "metadata": {},
     "output_type": "execute_result"
    }
   ],
   "source": [
    "dataset.select('City','Discipline').tail(10)"
   ]
  },
  {
   "cell_type": "code",
   "execution_count": 12,
   "metadata": {},
   "outputs": [],
   "source": [
    "new=dataset.select(dataset.Sport, dataset.Year / 1000).head(10)"
   ]
  },
  {
   "cell_type": "code",
   "execution_count": 15,
   "metadata": {},
   "outputs": [
    {
     "data": {
      "text/plain": [
       "[Row(Sport='Aquatics', (Year / 1000)=1.896),\n",
       " Row(Sport='Aquatics', (Year / 1000)=1.896),\n",
       " Row(Sport='Aquatics', (Year / 1000)=1.896),\n",
       " Row(Sport='Aquatics', (Year / 1000)=1.896),\n",
       " Row(Sport='Aquatics', (Year / 1000)=1.896),\n",
       " Row(Sport='Aquatics', (Year / 1000)=1.896),\n",
       " Row(Sport='Aquatics', (Year / 1000)=1.896),\n",
       " Row(Sport='Aquatics', (Year / 1000)=1.896),\n",
       " Row(Sport='Aquatics', (Year / 1000)=1.896),\n",
       " Row(Sport='Aquatics', (Year / 1000)=1.896)]"
      ]
     },
     "execution_count": 15,
     "metadata": {},
     "output_type": "execute_result"
    }
   ],
   "source": [
    "new"
   ]
  },
  {
   "cell_type": "code",
   "execution_count": 18,
   "metadata": {},
   "outputs": [
    {
     "name": "stdout",
     "output_type": "stream",
     "text": [
      "+-----------------+\n",
      "|            Sport|\n",
      "+-----------------+\n",
      "|       Gymnastics|\n",
      "|           Tennis|\n",
      "|           Boxing|\n",
      "|       Tug of War|\n",
      "|Water Motorsports|\n",
      "|       Ice Hockey|\n",
      "|             Golf|\n",
      "|           Rowing|\n",
      "|             Judo|\n",
      "|         Softball|\n",
      "|          Sailing|\n",
      "|       Basketball|\n",
      "|         Handball|\n",
      "|        Triathlon|\n",
      "|        Badminton|\n",
      "|          Croquet|\n",
      "|        Athletics|\n",
      "|             Polo|\n",
      "|     Jeu de paume|\n",
      "|          Skating|\n",
      "+-----------------+\n",
      "only showing top 20 rows\n",
      "\n"
     ]
    }
   ],
   "source": [
    "dataset.select(dataset.Sport).distinct().show()"
   ]
  },
  {
   "cell_type": "code",
   "execution_count": 19,
   "metadata": {},
   "outputs": [
    {
     "name": "stdout",
     "output_type": "stream",
     "text": [
      "+----+---------+------+----------+--------------------+-------+------+-------+-----+\n",
      "|Year|     City| Sport|Discipline|             Athlete|Country|Gender|  Event|Medal|\n",
      "+----+---------+------+----------+--------------------+-------+------+-------+-----+\n",
      "|1896|   Athens|Tennis|    Tennis|        BOLAND, John|    GBR|   Men|Singles| Gold|\n",
      "|1900|    Paris|Tennis|    Tennis|DOHERTY, Hugh Law...|    GBR|   Men|Singles| Gold|\n",
      "|1900|    Paris|Tennis|    Tennis|   COOPER, Charlotte|    GBR| Women|Singles| Gold|\n",
      "|1904| St Louis|Tennis|    Tennis|WRIGHT, Beals Col...|    USA|   Men|Singles| Gold|\n",
      "|1908|   London|Tennis|    Tennis|RITCHIE, Josiah G...|    GBR|   Men|Singles| Gold|\n",
      "|1908|   London|Tennis|    Tennis|CHAMBERS, Dorothy...|    GBR| Women|Singles| Gold|\n",
      "|1912|Stockholm|Tennis|    Tennis|WINSLOW, Charles ...|    RSA|   Men|Singles| Gold|\n",
      "|1912|Stockholm|Tennis|    Tennis|BROQUEDIS, Margue...|    FRA| Women|Singles| Gold|\n",
      "|1920|  Antwerp|Tennis|    Tennis|      RAYMOND, Louis|    RSA|   Men|Singles| Gold|\n",
      "|1920|  Antwerp|Tennis|    Tennis|    LENGLEN, Suzanne|    FRA| Women|Singles| Gold|\n",
      "|1924|    Paris|Tennis|    Tennis|   RICHARDS, Vincent|    USA|   Men|Singles| Gold|\n",
      "|1924|    Paris|Tennis|    Tennis|  WILLS-MOODY, Helen|    USA| Women|Singles| Gold|\n",
      "|1988|    Seoul|Tennis|    Tennis|     MECIR, Miloslav|    TCH|   Men|Singles| Gold|\n",
      "|1988|    Seoul|Tennis|    Tennis|        GRAF, Steffi|    FRG| Women|Singles| Gold|\n",
      "|1992|Barcelona|Tennis|    Tennis|        ROSSET, Marc|    SUI|   Men|Singles| Gold|\n",
      "|1992|Barcelona|Tennis|    Tennis|  CAPRIATI, Jennifer|    USA| Women|Singles| Gold|\n",
      "|1996|  Atlanta|Tennis|    Tennis|       AGASSI, Andre|    USA|   Men|Singles| Gold|\n",
      "|1996|  Atlanta|Tennis|    Tennis|  DAVENPORT, Lindsay|    USA| Women|Singles| Gold|\n",
      "|2000|   Sydney|Tennis|    Tennis| KAFELNIKOV, Eugueni|    RUS|   Men|Singles| Gold|\n",
      "|2000|   Sydney|Tennis|    Tennis|     WILLIAMS, Venus|    USA| Women|Singles| Gold|\n",
      "|2004|   Athens|Tennis|    Tennis|      MASSU, Nicolas|    CHI|   Men|Singles| Gold|\n",
      "|2004|   Athens|Tennis|    Tennis|HENIN-HARDENNE, J...|    BEL| Women|Singles| Gold|\n",
      "|2008|  Beijing|Tennis|    Tennis|       NADAL, Rafael|    ESP|   Men|Singles| Gold|\n",
      "|2008|  Beijing|Tennis|    Tennis|   DEMENTIEVA, Elena|    RUS| Women|Singles| Gold|\n",
      "|2012|   London|Tennis|    Tennis|        MURRAY, Andy|    GBR|   Men|Singles| Gold|\n",
      "|2012|   London|Tennis|    Tennis|    WILLIAMS, Serena|    USA| Women|Singles| Gold|\n",
      "+----+---------+------+----------+--------------------+-------+------+-------+-----+\n",
      "\n"
     ]
    }
   ],
   "source": [
    "dataset.filter(dataset.Sport == 'Tennis').filter(dataset.Event == 'Singles').filter(dataset.Medal == 'Gold').show(50)"
   ]
  },
  {
   "cell_type": "code",
   "execution_count": 20,
   "metadata": {},
   "outputs": [
    {
     "data": {
      "text/plain": [
       "[Row(Year=2000, Sport='Handball', count=90),\n",
       " Row(Year=2004, Sport='Modern Pentathlon', count=6),\n",
       " Row(Year=1932, Sport='Gymnastics', count=45),\n",
       " Row(Year=1948, Sport='Modern Pentathlon', count=3),\n",
       " Row(Year=1968, Sport='Sailing', count=33),\n",
       " Row(Year=1972, Sport='Boxing', count=44),\n",
       " Row(Year=2004, Sport='Archery', count=24),\n",
       " Row(Year=1952, Sport='Hockey', count=38),\n",
       " Row(Year=1964, Sport='Canoe / Kayak', count=39),\n",
       " Row(Year=1976, Sport='Sailing', count=36),\n",
       " Row(Year=1992, Sport='Boxing', count=48),\n",
       " Row(Year=2004, Sport='Football', count=98),\n",
       " Row(Year=1976, Sport='Wrestling', count=60),\n",
       " Row(Year=1956, Sport='Gymnastics', count=100),\n",
       " Row(Year=1896, Sport='Wrestling', count=3),\n",
       " Row(Year=1948, Sport='Wrestling', count=48),\n",
       " Row(Year=1976, Sport='Basketball', count=72),\n",
       " Row(Year=1988, Sport='Cycling', count=45),\n",
       " Row(Year=2008, Sport='Aquatics', count=347),\n",
       " Row(Year=1968, Sport='Athletics', count=135),\n",
       " Row(Year=1924, Sport='Wrestling', count=39),\n",
       " Row(Year=1988, Sport='Rowing', count=159),\n",
       " Row(Year=1972, Sport='Judo', count=23),\n",
       " Row(Year=1960, Sport='Wrestling', count=48),\n",
       " Row(Year=1984, Sport='Fencing', count=72),\n",
       " Row(Year=1920, Sport='Ice Hockey', count=27),\n",
       " Row(Year=1908, Sport='Football', count=33),\n",
       " Row(Year=1912, Sport='Rowing', count=61),\n",
       " Row(Year=1920, Sport='Equestrian', count=42),\n",
       " Row(Year=1920, Sport='Polo', count=14),\n",
       " Row(Year=1984, Sport='Rowing', count=162),\n",
       " Row(Year=1988, Sport='Boxing', count=48),\n",
       " Row(Year=1920, Sport='Cycling', count=39),\n",
       " Row(Year=1956, Sport='Sailing', count=34),\n",
       " Row(Year=1968, Sport='Equestrian', count=36),\n",
       " Row(Year=1992, Sport='Rowing', count=156),\n",
       " Row(Year=1932, Sport='Aquatics', count=88),\n",
       " Row(Year=1972, Sport='Basketball', count=36),\n",
       " Row(Year=1996, Sport='Boxing', count=48),\n",
       " Row(Year=2000, Sport='Basketball', count=72),\n",
       " Row(Year=2004, Sport='Boxing', count=44),\n",
       " Row(Year=1904, Sport='Football', count=57),\n",
       " Row(Year=1936, Sport='Aquatics', count=94),\n",
       " Row(Year=1980, Sport='Volleyball', count=72),\n",
       " Row(Year=1900, Sport='Basque Pelota', count=4),\n",
       " Row(Year=1952, Sport='Fencing', count=66),\n",
       " Row(Year=1988, Sport='Fencing', count=72),\n",
       " Row(Year=1996, Sport='Football', count=104),\n",
       " Row(Year=2008, Sport='Tennis', count=18),\n",
       " Row(Year=1936, Sport='Equestrian', count=39),\n",
       " Row(Year=1912, Sport='Tennis', count=36),\n",
       " Row(Year=1972, Sport='Hockey', count=47),\n",
       " Row(Year=2004, Sport='Triathlon', count=6),\n",
       " Row(Year=1900, Sport='Shooting', count=52),\n",
       " Row(Year=1952, Sport='Weightlifting', count=21),\n",
       " Row(Year=1984, Sport='Archery', count=6),\n",
       " Row(Year=1992, Sport='Cycling', count=50),\n",
       " Row(Year=1924, Sport='Rowing', count=76),\n",
       " Row(Year=1936, Sport='Weightlifting', count=15),\n",
       " Row(Year=1972, Sport='Archery', count=6),\n",
       " Row(Year=2012, Sport='Canoe', count=81),\n",
       " Row(Year=1932, Sport='Sailing', count=41),\n",
       " Row(Year=1976, Sport='Volleyball', count=72),\n",
       " Row(Year=1980, Sport='Hockey', count=96),\n",
       " Row(Year=1992, Sport='Fencing', count=72),\n",
       " Row(Year=1972, Sport='Volleyball', count=71),\n",
       " Row(Year=1980, Sport='Archery', count=6),\n",
       " Row(Year=1980, Sport='Canoe / Kayak', count=57),\n",
       " Row(Year=2000, Sport='Canoe / Kayak', count=84),\n",
       " Row(Year=1936, Sport='Cycling', count=36),\n",
       " Row(Year=1976, Sport='Boxing', count=44),\n",
       " Row(Year=1988, Sport='Athletics', count=163),\n",
       " Row(Year=2008, Sport='Handball', count=85),\n",
       " Row(Year=2008, Sport='Sailing', count=54),\n",
       " Row(Year=1920, Sport='Rowing', count=60),\n",
       " Row(Year=2000, Sport='Tennis', count=18),\n",
       " Row(Year=1924, Sport='Weightlifting', count=15),\n",
       " Row(Year=1980, Sport='Aquatics', count=159),\n",
       " Row(Year=1988, Sport='Basketball', count=72),\n",
       " Row(Year=1996, Sport='Hockey', count=96),\n",
       " Row(Year=2004, Sport='Taekwondo', count=24),\n",
       " Row(Year=1908, Sport='Archery', count=9),\n",
       " Row(Year=1920, Sport='Boxing', count=24),\n",
       " Row(Year=1924, Sport='Tennis', count=24),\n",
       " Row(Year=1928, Sport='Boxing', count=24),\n",
       " Row(Year=1960, Sport='Aquatics', count=128),\n",
       " Row(Year=1904, Sport='Weightlifting', count=6),\n",
       " Row(Year=1956, Sport='Weightlifting', count=21),\n",
       " Row(Year=1968, Sport='Football', count=51),\n",
       " Row(Year=1972, Sport='Weightlifting', count=27),\n",
       " Row(Year=1984, Sport='Canoe / Kayak', count=69),\n",
       " Row(Year=2008, Sport='Volleyball', count=84),\n",
       " Row(Year=1932, Sport='Boxing', count=24),\n",
       " Row(Year=1960, Sport='Boxing', count=40),\n",
       " Row(Year=1984, Sport='Equestrian', count=47),\n",
       " Row(Year=1924, Sport='Gymnastics', count=49),\n",
       " Row(Year=1968, Sport='Fencing', count=72),\n",
       " Row(Year=1972, Sport='Aquatics', count=177),\n",
       " Row(Year=1996, Sport='Badminton', count=24),\n",
       " Row(Year=1932, Sport='Cycling', count=36),\n",
       " Row(Year=1932, Sport='Weightlifting', count=15),\n",
       " Row(Year=2012, Sport='Basketball', count=72),\n",
       " Row(Year=1996, Sport='Volleyball', count=84),\n",
       " Row(Year=2004, Sport='Basketball', count=70),\n",
       " Row(Year=2004, Sport='Weightlifting', count=45),\n",
       " Row(Year=1948, Sport='Canoe / Kayak', count=39),\n",
       " Row(Year=1972, Sport='Modern Pentathlon', count=12),\n",
       " Row(Year=1920, Sport='Tennis', count=24),\n",
       " Row(Year=1964, Sport='Boxing', count=40),\n",
       " Row(Year=1992, Sport='Judo', count=56),\n",
       " Row(Year=2008, Sport='Wrestling', count=71),\n",
       " Row(Year=1928, Sport='Hockey', count=59),\n",
       " Row(Year=1996, Sport='Weightlifting', count=30),\n",
       " Row(Year=1896, Sport='Gymnastics', count=45),\n",
       " Row(Year=1924, Sport='Boxing', count=24),\n",
       " Row(Year=1988, Sport='Tennis', count=24),\n",
       " Row(Year=1904, Sport='Boxing', count=19),\n",
       " Row(Year=1900, Sport='Cycling', count=6),\n",
       " Row(Year=1948, Sport='Aquatics', count=91),\n",
       " Row(Year=1900, Sport='Aquatics', count=61),\n",
       " Row(Year=1952, Sport='Shooting', count=21),\n",
       " Row(Year=1972, Sport='Gymnastics', count=72),\n",
       " Row(Year=2008, Sport='Modern Pentathlon', count=6),\n",
       " Row(Year=1920, Sport='Fencing', count=76),\n",
       " Row(Year=1992, Sport='Table Tennis', count=24),\n",
       " Row(Year=1904, Sport='Gymnastics', count=48),\n",
       " Row(Year=1932, Sport='Modern Pentathlon', count=3),\n",
       " Row(Year=1952, Sport='Athletics', count=126),\n",
       " Row(Year=1952, Sport='Basketball', count=40),\n",
       " Row(Year=2000, Sport='Modern Pentathlon', count=6),\n",
       " Row(Year=1936, Sport='Football', count=41),\n",
       " Row(Year=1936, Sport='Canoe / Kayak', count=42),\n",
       " Row(Year=1968, Sport='Basketball', count=36),\n",
       " Row(Year=1980, Sport='Cycling', count=36),\n",
       " Row(Year=1996, Sport='Archery', count=24),\n",
       " Row(Year=1908, Sport='Fencing', count=31),\n",
       " Row(Year=1976, Sport='Athletics', count=147),\n",
       " Row(Year=1924, Sport='Football', count=66),\n",
       " Row(Year=1936, Sport='Gymnastics', count=70),\n",
       " Row(Year=1996, Sport='Athletics', count=180),\n",
       " Row(Year=1920, Sport='Hockey', count=42),\n",
       " Row(Year=1984, Sport='Athletics', count=161),\n",
       " Row(Year=1928, Sport='Modern Pentathlon', count=3),\n",
       " Row(Year=1936, Sport='Handball', count=61),\n",
       " Row(Year=1972, Sport='Handball', count=45),\n",
       " Row(Year=2000, Sport='Football', count=108),\n",
       " Row(Year=2004, Sport='Gymnastics', count=99),\n",
       " Row(Year=1912, Sport='Athletics', count=127),\n",
       " Row(Year=1956, Sport='Rowing', count=78),\n",
       " Row(Year=1996, Sport='Handball', count=96),\n",
       " Row(Year=1924, Sport='Rugby', count=82),\n",
       " Row(Year=1968, Sport='Aquatics', count=177),\n",
       " Row(Year=2012, Sport='Fencing', count=66),\n",
       " Row(Year=1932, Sport='Rowing', count=78),\n",
       " Row(Year=1972, Sport='Canoe / Kayak', count=54),\n",
       " Row(Year=1992, Sport='Canoe / Kayak', count=84),\n",
       " Row(Year=1908, Sport='Aquatics', count=48),\n",
       " Row(Year=1912, Sport='Modern Pentathlon', count=3),\n",
       " Row(Year=1980, Sport='Wrestling', count=60),\n",
       " Row(Year=1912, Sport='Sailing', count=73),\n",
       " Row(Year=1936, Sport='Polo', count=12),\n",
       " Row(Year=1996, Sport='Softball', count=45),\n",
       " Row(Year=2012, Sport='Wrestling', count=72),\n",
       " Row(Year=1956, Sport='Modern Pentathlon', count=12),\n",
       " Row(Year=1952, Sport='Sailing', count=44),\n",
       " Row(Year=1992, Sport='Football', count=37),\n",
       " Row(Year=2000, Sport='Table Tennis', count=18),\n",
       " Row(Year=2008, Sport='Rowing', count=144),\n",
       " Row(Year=1936, Sport='Wrestling', count=42),\n",
       " Row(Year=1976, Sport='Modern Pentathlon', count=12),\n",
       " Row(Year=1988, Sport='Football', count=61),\n",
       " Row(Year=1956, Sport='Wrestling', count=48),\n",
       " Row(Year=1968, Sport='Shooting', count=21),\n",
       " Row(Year=1896, Sport='Athletics', count=37),\n",
       " Row(Year=1908, Sport='Cycling', count=30),\n",
       " Row(Year=1908, Sport='Polo', count=12),\n",
       " Row(Year=1912, Sport='Wrestling', count=15),\n",
       " Row(Year=1920, Sport='Football', count=46),\n",
       " Row(Year=1952, Sport='Modern Pentathlon', count=12),\n",
       " Row(Year=1984, Sport='Shooting', count=33),\n",
       " Row(Year=1964, Sport='Cycling', count=42),\n",
       " Row(Year=1988, Sport='Shooting', count=39),\n",
       " Row(Year=1948, Sport='Weightlifting', count=18),\n",
       " Row(Year=1992, Sport='Hockey', count=96),\n",
       " Row(Year=1904, Sport='Golf', count=24),\n",
       " Row(Year=1960, Sport='Rowing', count=78),\n",
       " Row(Year=1976, Sport='Cycling', count=36),\n",
       " Row(Year=1976, Sport='Gymnastics', count=74),\n",
       " Row(Year=1992, Sport='Basketball', count=72),\n",
       " Row(Year=1976, Sport='Weightlifting', count=27),\n",
       " Row(Year=2004, Sport='Shooting', count=51),\n",
       " Row(Year=1984, Sport='Volleyball', count=72),\n",
       " Row(Year=1988, Sport='Archery', count=24),\n",
       " Row(Year=1996, Sport='Equestrian', count=45),\n",
       " Row(Year=2008, Sport='Equestrian', count=45),\n",
       " Row(Year=1904, Sport='Wrestling', count=21),\n",
       " Row(Year=1980, Sport='Weightlifting', count=30),\n",
       " Row(Year=1988, Sport='Aquatics', count=202),\n",
       " Row(Year=2000, Sport='Judo', count=56),\n",
       " Row(Year=2000, Sport='Weightlifting', count=45),\n",
       " Row(Year=2008, Sport='Baseball', count=72),\n",
       " Row(Year=1936, Sport='Basketball', count=34),\n",
       " Row(Year=1968, Sport='Gymnastics', count=72),\n",
       " Row(Year=2008, Sport='Shooting', count=45),\n",
       " Row(Year=1908, Sport='Sailing', count=48),\n",
       " Row(Year=1964, Sport='Volleyball', count=72),\n",
       " Row(Year=1936, Sport='Boxing', count=24),\n",
       " Row(Year=1992, Sport='Equestrian', count=45),\n",
       " Row(Year=2004, Sport='Handball', count=88),\n",
       " Row(Year=2012, Sport='Gymnastics', count=93),\n",
       " Row(Year=1952, Sport='Boxing', count=40),\n",
       " Row(Year=1960, Sport='Athletics', count=129),\n",
       " Row(Year=2012, Sport='Aquatics', count=342),\n",
       " Row(Year=1984, Sport='Hockey', count=96),\n",
       " Row(Year=1988, Sport='Weightlifting', count=30),\n",
       " Row(Year=2000, Sport='Equestrian', count=45),\n",
       " Row(Year=2012, Sport='Hockey', count=97),\n",
       " Row(Year=1972, Sport='Sailing', count=39),\n",
       " Row(Year=2000, Sport='Fencing', count=66),\n",
       " Row(Year=2000, Sport='Sailing', count=54),\n",
       " Row(Year=2008, Sport='Canoe / Kayak', count=84),\n",
       " Row(Year=1908, Sport='Hockey', count=22),\n",
       " Row(Year=1920, Sport='Wrestling', count=31),\n",
       " Row(Year=1952, Sport='Football', count=38),\n",
       " Row(Year=2004, Sport='Baseball', count=71),\n",
       " Row(Year=1956, Sport='Cycling', count=36),\n",
       " Row(Year=1996, Sport='Shooting', count=45),\n",
       " Row(Year=2000, Sport='Shooting', count=51),\n",
       " Row(Year=1920, Sport='Sailing', count=102),\n",
       " Row(Year=1992, Sport='Baseball', count=60),\n",
       " Row(Year=1904, Sport='Aquatics', count=43),\n",
       " Row(Year=1924, Sport='Shooting', count=88),\n",
       " Row(Year=1972, Sport='Football', count=70),\n",
       " Row(Year=1972, Sport='Shooting', count=24),\n",
       " Row(Year=1992, Sport='Volleyball', count=72),\n",
       " Row(Year=1948, Sport='Athletics', count=126),\n",
       " Row(Year=2008, Sport='Softball', count=45),\n",
       " Row(Year=1992, Sport='Weightlifting', count=29),\n",
       " Row(Year=1948, Sport='Rowing', count=78),\n",
       " Row(Year=1976, Sport='Fencing', count=71),\n",
       " Row(Year=1988, Sport='Volleyball', count=72),\n",
       " Row(Year=2008, Sport='Triathlon', count=6),\n",
       " Row(Year=2012, Sport='Table Tennis', count=24),\n",
       " Row(Year=1924, Sport='Modern Pentathlon', count=3),\n",
       " Row(Year=1976, Sport='Archery', count=6),\n",
       " Row(Year=1908, Sport='Boxing', count=15),\n",
       " Row(Year=1956, Sport='Equestrian', count=43),\n",
       " Row(Year=1992, Sport='Sailing', count=51),\n",
       " Row(Year=1996, Sport='Table Tennis', count=18),\n",
       " Row(Year=1912, Sport='Equestrian', count=33),\n",
       " Row(Year=1920, Sport='Skating', count=12),\n",
       " Row(Year=1932, Sport='Equestrian', count=24),\n",
       " Row(Year=1976, Sport='Judo', count=24),\n",
       " Row(Year=2012, Sport='Triathlon', count=6),\n",
       " Row(Year=1956, Sport='Boxing', count=40),\n",
       " Row(Year=1976, Sport='Football', count=51),\n",
       " Row(Year=1920, Sport='Rugby', count=33),\n",
       " Row(Year=1900, Sport='Football', count=35),\n",
       " Row(Year=1924, Sport='Polo', count=16),\n",
       " Row(Year=1964, Sport='Basketball', count=36),\n",
       " Row(Year=1996, Sport='Canoe / Kayak', count=84),\n",
       " Row(Year=1996, Sport='Cycling', count=52),\n",
       " Row(Year=2000, Sport='Cycling', count=75),\n",
       " Row(Year=2004, Sport='Aquatics', count=332),\n",
       " Row(Year=1924, Sport='Equestrian', count=31),\n",
       " Row(Year=1896, Sport='Weightlifting', count=6),\n",
       " Row(Year=1932, Sport='Wrestling', count=42),\n",
       " Row(Year=1900, Sport='Cricket', count=24),\n",
       " Row(Year=1972, Sport='Cycling', count=37),\n",
       " Row(Year=1992, Sport='Wrestling', count=60),\n",
       " Row(Year=1960, Sport='Basketball', count=36),\n",
       " Row(Year=1988, Sport='Hockey', count=96),\n",
       " Row(Year=1988, Sport='Table Tennis', count=18),\n",
       " Row(Year=2000, Sport='Hockey', count=96),\n",
       " Row(Year=2004, Sport='Hockey', count=95),\n",
       " Row(Year=1948, Sport='Gymnastics', count=72),\n",
       " Row(Year=1984, Sport='Boxing', count=48),\n",
       " Row(Year=1920, Sport='Athletics', count=117),\n",
       " Row(Year=1928, Sport='Cycling', count=39),\n",
       " Row(Year=2000, Sport='Boxing', count=48),\n",
       " Row(Year=1900, Sport='Archery', count=18),\n",
       " Row(Year=1920, Sport='Gymnastics', count=202),\n",
       " Row(Year=1956, Sport='Canoe / Kayak', count=39),\n",
       " Row(Year=1956, Sport='Hockey', count=42),\n",
       " Row(Year=1992, Sport='Aquatics', count=228),\n",
       " Row(Year=1996, Sport='Basketball', count=72),\n",
       " Row(Year=1996, Sport='Fencing', count=60),\n",
       " Row(Year=2000, Sport='Archery', count=24),\n",
       " Row(Year=1964, Sport='Rowing', count=78),\n",
       " Row(Year=2012, Sport='Rowing', count=144),\n",
       " Row(Year=1900, Sport='Sailing', count=26),\n",
       " Row(Year=1912, Sport='Cycling', count=15),\n",
       " Row(Year=1936, Sport='Rowing', count=78),\n",
       " Row(Year=1952, Sport='Equestrian', count=36),\n",
       " Row(Year=1964, Sport='Aquatics', count=145),\n",
       " Row(Year=1992, Sport='Gymnastics', count=80),\n",
       " Row(Year=2004, Sport='Rowing', count=144),\n",
       " Row(Year=1912, Sport='Aquatics', count=78),\n",
       " Row(Year=1956, Sport='Shooting', count=21),\n",
       " Row(Year=1960, Sport='Canoe / Kayak', count=39),\n",
       " Row(Year=1972, Sport='Equestrian', count=42),\n",
       " Row(Year=1976, Sport='Rowing', count=162),\n",
       " Row(Year=1980, Sport='Football', count=51),\n",
       " Row(Year=1980, Sport='Gymnastics', count=75),\n",
       " Row(Year=1980, Sport='Handball', count=84),\n",
       " Row(Year=1980, Sport='Rowing', count=162),\n",
       " Row(Year=2000, Sport='Wrestling', count=48),\n",
       " Row(Year=1924, Sport='Sailing', count=26),\n",
       " Row(Year=1928, Sport='Equestrian', count=37),\n",
       " Row(Year=1964, Sport='Athletics', count=135),\n",
       " Row(Year=2000, Sport='Baseball', count=72),\n",
       " Row(Year=1920, Sport='Aquatics', count=87),\n",
       " Row(Year=1932, Sport='Fencing', count=65),\n",
       " Row(Year=1988, Sport='Equestrian', count=45),\n",
       " Row(Year=1976, Sport='Equestrian', count=42),\n",
       " Row(Year=1984, Sport='Basketball', count=72),\n",
       " Row(Year=1960, Sport='Cycling', count=39),\n",
       " Row(Year=1976, Sport='Canoe / Kayak', count=57),\n",
       " Row(Year=1976, Sport='Handball', count=84),\n",
       " Row(Year=1904, Sport='Archery', count=30),\n",
       " Row(Year=1964, Sport='Judo', count=16),\n",
       " Row(Year=1968, Sport='Cycling', count=42),\n",
       " Row(Year=1904, Sport='Fencing', count=18),\n",
       " Row(Year=1904, Sport='Tug of War', count=15),\n",
       " Row(Year=1964, Sport='Hockey', count=45),\n",
       " Row(Year=1972, Sport='Rowing', count=78),\n",
       " Row(Year=2012, Sport='Football', count=110),\n",
       " Row(Year=1908, Sport='Jeu de paume', count=3),\n",
       " Row(Year=1968, Sport='Rowing', count=78),\n",
       " Row(Year=2008, Sport='Hockey', count=98),\n",
       " Row(Year=2008, Sport='Taekwondo', count=32),\n",
       " Row(Year=1924, Sport='Cycling', count=36),\n",
       " Row(Year=1948, Sport='Fencing', count=66),\n",
       " Row(Year=1984, Sport='Modern Pentathlon', count=12),\n",
       " Row(Year=1996, Sport='Sailing', count=48),\n",
       " Row(Year=2000, Sport='Badminton', count=24),\n",
       " Row(Year=1920, Sport='Modern Pentathlon', count=3),\n",
       " Row(Year=1948, Sport='Football', count=41),\n",
       " Row(Year=1960, Sport='Weightlifting', count=21),\n",
       " Row(Year=1968, Sport='Boxing', count=44),\n",
       " Row(Year=1988, Sport='Wrestling', count=60),\n",
       " Row(Year=2000, Sport='Triathlon', count=6),\n",
       " Row(Year=2008, Sport='Judo', count=56),\n",
       " Row(Year=2012, Sport='Equestrian', count=45),\n",
       " Row(Year=1928, Sport='Rowing', count=78),\n",
       " Row(Year=1960, Sport='Modern Pentathlon', count=12),\n",
       " Row(Year=1996, Sport='Aquatics', count=262),\n",
       " Row(Year=2008, Sport='Athletics', count=177),\n",
       " Row(Year=2008, Sport='Boxing', count=44),\n",
       " Row(Year=1908, Sport='Tug of War', count=27),\n",
       " Row(Year=1932, Sport='Hockey', count=34),\n",
       " Row(Year=1960, Sport='Hockey', count=40),\n",
       " Row(Year=1980, Sport='Fencing', count=70),\n",
       " Row(Year=1996, Sport='Modern Pentathlon', count=3),\n",
       " Row(Year=2004, Sport='Cycling', count=76),\n",
       " Row(Year=1900, Sport='Equestrian', count=9),\n",
       " Row(Year=1972, Sport='Athletics', count=150),\n",
       " Row(Year=2012, Sport='Weightlifting', count=45),\n",
       " Row(Year=1896, Sport='Tennis', count=10),\n",
       " Row(Year=1960, Sport='Football', count=45),\n",
       " Row(Year=1980, Sport='Boxing', count=44),\n",
       " Row(Year=1896, Sport='Aquatics', count=11),\n",
       " Row(Year=1912, Sport='Shooting', count=144),\n",
       " Row(Year=1968, Sport='Modern Pentathlon', count=12),\n",
       " Row(Year=1996, Sport='Judo', count=56),\n",
       " Row(Year=2012, Sport='Cycling', count=80),\n",
       " Row(Year=1908, Sport='Rowing', count=56),\n",
       " Row(Year=1928, Sport='Weightlifting', count=15),\n",
       " Row(Year=1980, Sport='Shooting', count=21),\n",
       " Row(Year=2008, Sport='Basketball', count=72),\n",
       " Row(Year=2012, Sport='Badminton', count=24),\n",
       " Row(Year=2012, Sport='Judo', count=56),\n",
       " Row(Year=1900, Sport='Gymnastics', count=3),\n",
       " Row(Year=1924, Sport='Athletics', count=128),\n",
       " Row(Year=1928, Sport='Football', count=66),\n",
       " Row(Year=1980, Sport='Judo', count=32),\n",
       " Row(Year=1920, Sport='Tug of War', count=24),\n",
       " Row(Year=1908, Sport='Rackets', count=10),\n",
       " Row(Year=1948, Sport='Cycling', count=36),\n",
       " Row(Year=1964, Sport='Modern Pentathlon', count=12),\n",
       " Row(Year=1992, Sport='Badminton', count=24),\n",
       " Row(Year=2012, Sport='Modern Pentathlon', count=6),\n",
       " Row(Year=1900, Sport='Golf', count=6),\n",
       " Row(Year=1904, Sport='Rowing', count=45),\n",
       " Row(Year=1960, Sport='Fencing', count=76),\n",
       " Row(Year=1968, Sport='Hockey', count=42),\n",
       " Row(Year=1972, Sport='Fencing', count=71),\n",
       " Row(Year=2004, Sport='Athletics', count=183),\n",
       " Row(Year=1904, Sport='Roque', count=3),\n",
       " Row(Year=1908, Sport='Gymnastics', count=119),\n",
       " Row(Year=1896, Sport='Shooting', count=15),\n",
       " Row(Year=1948, Sport='Boxing', count=24),\n",
       " Row(Year=1960, Sport='Sailing', count=33),\n",
       " Row(Year=1980, Sport='Modern Pentathlon', count=12),\n",
       " Row(Year=1992, Sport='Archery', count=24),\n",
       " Row(Year=2004, Sport='Sailing', count=54),\n",
       " Row(Year=2008, Sport='Football', count=108),\n",
       " Row(Year=1996, Sport='Baseball', count=60),\n",
       " Row(Year=2000, Sport='Athletics', count=184),\n",
       " Row(Year=1908, Sport='Tennis', count=24),\n",
       " Row(Year=1908, Sport='Water Motorsports', count=5),\n",
       " Row(Year=1936, Sport='Shooting', count=9),\n",
       " Row(Year=2004, Sport='Table Tennis', count=18),\n",
       " Row(Year=1912, Sport='Tug of War', count=16),\n",
       " Row(Year=1932, Sport='Athletics', count=114),\n",
       " Row(Year=1964, Sport='Football', count=50),\n",
       " Row(Year=2008, Sport='Fencing', count=62),\n",
       " Row(Year=2012, Sport='Taekwondo', count=32),\n",
       " Row(Year=1936, Sport='Athletics', count=114),\n",
       " Row(Year=1976, Sport='Shooting', count=21),\n",
       " Row(Year=1900, Sport='Athletics', count=76),\n",
       " Row(Year=1920, Sport='Archery', count=80),\n",
       " Row(Year=1984, Sport='Cycling', count=42),\n",
       " Row(Year=1992, Sport='Athletics', count=178),\n",
       " Row(Year=2000, Sport='Taekwondo', count=24),\n",
       " Row(Year=1948, Sport='Sailing', count=40),\n",
       " Row(Year=1936, Sport='Sailing', count=42),\n",
       " Row(Year=1956, Sport='Athletics', count=127),\n",
       " Row(Year=1928, Sport='Athletics', count=108),\n",
       " Row(Year=1928, Sport='Fencing', count=47),\n",
       " Row(Year=1964, Sport='Fencing', count=71),\n",
       " Row(Year=2004, Sport='Softball', count=45),\n",
       " Row(Year=1900, Sport='Polo', count=12),\n",
       " Row(Year=1956, Sport='Fencing', count=64),\n",
       " Row(Year=1964, Sport='Gymnastics', count=73),\n",
       " Row(Year=1984, Sport='Gymnastics', count=78),\n",
       " Row(Year=1904, Sport='Athletics', count=82),\n",
       " Row(Year=1952, Sport='Wrestling', count=48),\n",
       " Row(Year=1984, Sport='Wrestling', count=60),\n",
       " Row(Year=2004, Sport='Badminton', count=24),\n",
       " Row(Year=1912, Sport='Fencing', count=51),\n",
       " Row(Year=1980, Sport='Sailing', count=36),\n",
       " Row(Year=1992, Sport='Modern Pentathlon', count=12),\n",
       " Row(Year=2004, Sport='Tennis', count=16),\n",
       " Row(Year=2012, Sport='Volleyball', count=84),\n",
       " Row(Year=1900, Sport='Rowing', count=68),\n",
       " Row(Year=1912, Sport='Football', count=33),\n",
       " Row(Year=1912, Sport='Gymnastics', count=200),\n",
       " Row(Year=1980, Sport='Equestrian', count=62),\n",
       " Row(Year=1984, Sport='Sailing', count=39),\n",
       " Row(Year=1988, Sport='Judo', count=28),\n",
       " Row(Year=2004, Sport='Wrestling', count=54),\n",
       " Row(Year=1908, Sport='Lacrosse', count=33),\n",
       " Row(Year=1976, Sport='Aquatics', count=159),\n",
       " Row(Year=1984, Sport='Football', count=51),\n",
       " Row(Year=1932, Sport='Shooting', count=6),\n",
       " Row(Year=1948, Sport='Shooting', count=12),\n",
       " Row(Year=1976, Sport='Hockey', count=48),\n",
       " Row(Year=2000, Sport='Softball', count=45),\n",
       " Row(Year=2008, Sport='Gymnastics', count=99),\n",
       " Row(Year=1956, Sport='Aquatics', count=98),\n",
       " Row(Year=1984, Sport='Aquatics', count=192),\n",
       " Row(Year=2004, Sport='Fencing', count=61),\n",
       " Row(Year=1896, Sport='Fencing', count=8),\n",
       " Row(Year=1964, Sport='Sailing', count=33),\n",
       " Row(Year=1984, Sport='Judo', count=32),\n",
       " Row(Year=1996, Sport='Gymnastics', count=101),\n",
       " Row(Year=1928, Sport='Aquatics', count=87),\n",
       " Row(Year=2000, Sport='Aquatics', count=329),\n",
       " Row(Year=2000, Sport='Gymnastics', count=99),\n",
       " Row(Year=2012, Sport='Shooting', count=45),\n",
       " Row(Year=1900, Sport='Tug of War', count=12),\n",
       " Row(Year=1956, Sport='Football', count=46),\n",
       " Row(Year=1988, Sport='Handball', count=84),\n",
       " Row(Year=2000, Sport='Rowing', count=144),\n",
       " Row(Year=2008, Sport='Weightlifting', count=45),\n",
       " Row(Year=2012, Sport='Boxing', count=52),\n",
       " Row(Year=1964, Sport='Equestrian', count=36),\n",
       " Row(Year=1896, Sport='Cycling', count=16),\n",
       " Row(Year=1908, Sport='Skating', count=15),\n",
       " Row(Year=2012, Sport='Tennis', count=24),\n",
       " Row(Year=1908, Sport='Shooting', count=113),\n",
       " Row(Year=1920, Sport='Weightlifting', count=15),\n",
       " Row(Year=1964, Sport='Wrestling', count=48),\n",
       " Row(Year=1968, Sport='Weightlifting', count=21),\n",
       " Row(Year=1980, Sport='Basketball', count=72),\n",
       " Row(Year=2004, Sport='Judo', count=56),\n",
       " Row(Year=1988, Sport='Gymnastics', count=78),\n",
       " Row(Year=1960, Sport='Gymnastics', count=73),\n",
       " Row(Year=1984, Sport='Weightlifting', count=30),\n",
       " Row(Year=1972, Sport='Wrestling', count=60),\n",
       " Row(Year=1948, Sport='Basketball', count=40),\n",
       " Row(Year=1988, Sport='Sailing', count=45),\n",
       " Row(Year=2004, Sport='Equestrian', count=47),\n",
       " Row(Year=2012, Sport='Athletics', count=190),\n",
       " Row(Year=1904, Sport='Tennis', count=12),\n",
       " Row(Year=1952, Sport='Gymnastics', count=110),\n",
       " Row(Year=1964, Sport='Shooting', count=18),\n",
       " Row(Year=1996, Sport='Wrestling', count=60),\n",
       " Row(Year=1948, Sport='Equestrian', count=36),\n",
       " Row(Year=1952, Sport='Rowing', count=78),\n",
       " Row(Year=1900, Sport='Fencing', count=21),\n",
       " Row(Year=1956, Sport='Basketball', count=36),\n",
       " Row(Year=2000, Sport='Volleyball', count=84),\n",
       " Row(Year=1952, Sport='Canoe / Kayak', count=39),\n",
       " Row(Year=2008, Sport='Archery', count=24),\n",
       " Row(Year=2008, Sport='Cycling', count=71),\n",
       " Row(Year=1920, Sport='Shooting', count=198),\n",
       " Row(Year=1900, Sport='Croquet', count=8),\n",
       " Row(Year=1908, Sport='Wrestling', count=27),\n",
       " Row(Year=1984, Sport='Handball', count=85),\n",
       " Row(Year=2012, Sport='Sailing', count=48),\n",
       " Row(Year=1928, Sport='Gymnastics', count=78),\n",
       " Row(Year=1992, Sport='Tennis', count=24),\n",
       " Row(Year=2012, Sport='Archery', count=24),\n",
       " Row(Year=1908, Sport='Athletics', count=94),\n",
       " Row(Year=1928, Sport='Wrestling', count=39),\n",
       " Row(Year=1980, Sport='Athletics', count=150),\n",
       " Row(Year=1904, Sport='Lacrosse', count=26),\n",
       " Row(Year=1924, Sport='Fencing', count=72),\n",
       " Row(Year=1992, Sport='Shooting', count=39),\n",
       " Row(Year=2008, Sport='Table Tennis', count=24),\n",
       " Row(Year=1952, Sport='Cycling', count=36),\n",
       " Row(Year=1952, Sport='Aquatics', count=96),\n",
       " Row(Year=1960, Sport='Equestrian', count=27),\n",
       " Row(Year=2004, Sport='Volleyball', count=83),\n",
       " Row(Year=2008, Sport='Badminton', count=24),\n",
       " Row(Year=1900, Sport='Tennis', count=24),\n",
       " Row(Year=1924, Sport='Aquatics', count=109),\n",
       " Row(Year=1936, Sport='Hockey', count=53),\n",
       " Row(Year=1936, Sport='Modern Pentathlon', count=3),\n",
       " Row(Year=1960, Sport='Shooting', count=18),\n",
       " Row(Year=1992, Sport='Handball', count=84),\n",
       " Row(Year=1904, Sport='Cycling', count=21),\n",
       " Row(Year=1908, Sport='Rugby', count=30),\n",
       " Row(Year=1936, Sport='Fencing', count=66),\n",
       " Row(Year=1968, Sport='Volleyball', count=72),\n",
       " Row(Year=1968, Sport='Wrestling', count=48),\n",
       " Row(Year=1996, Sport='Rowing', count=144),\n",
       " Row(Year=2004, Sport='Canoe / Kayak', count=84),\n",
       " Row(Year=1968, Sport='Canoe / Kayak', count=39),\n",
       " Row(Year=1996, Sport='Tennis', count=18),\n",
       " Row(Year=2012, Sport='Handball', count=87),\n",
       " Row(Year=1928, Sport='Sailing', count=30),\n",
       " Row(Year=1988, Sport='Canoe / Kayak', count=69),\n",
       " Row(Year=1900, Sport='Rugby', count=47),\n",
       " Row(Year=1948, Sport='Hockey', count=44),\n",
       " Row(Year=1964, Sport='Weightlifting', count=21),\n",
       " Row(Year=1988, Sport='Modern Pentathlon', count=12)]"
      ]
     },
     "execution_count": 20,
     "metadata": {},
     "output_type": "execute_result"
    }
   ],
   "source": [
    "dataset.groupBy('Year','Sport').count().collect()"
   ]
  },
  {
   "cell_type": "code",
   "execution_count": 21,
   "metadata": {},
   "outputs": [],
   "source": [
    "spark.stop()"
   ]
  },
  {
   "cell_type": "markdown",
   "metadata": {},
   "source": [
    "# Biblio\n",
    "- https://data-flair.training/blogs/apache-spark-rdd-vs-dataframe-vs-dataset/\n",
    "- https://medium.com/@ravi.g/sparks-structured-api-s-cdeb381f6407\n",
    "- https://www.kdnuggets.com/2017/08/three-apache-spark-apis-rdds-dataframes-datasets.html\n",
    "- https://www.slideshare.net/databricks/jump-start-into-apache-spark-and-databricks"
   ]
  },
  {
   "cell_type": "code",
   "execution_count": null,
   "metadata": {},
   "outputs": [],
   "source": []
  }
 ],
 "metadata": {
  "celltoolbar": "Slideshow",
  "kernelspec": {
   "display_name": "Python 3 (ipykernel)",
   "language": "python",
   "name": "python3"
  },
  "language_info": {
   "codemirror_mode": {
    "name": "ipython",
    "version": 3
   },
   "file_extension": ".py",
   "mimetype": "text/x-python",
   "name": "python",
   "nbconvert_exporter": "python",
   "pygments_lexer": "ipython3",
   "version": "3.9.15"
  },
  "rise": {
   "autolaunch": true,
   "enable_chalkboard": "true",
   "footer": "<div class=\"tap-footer\"> *** Technologies for advanced programming (TAP) - 2023 ***</div>",
   "header": "<div class=\"tap-header\"></div>",
   "scroll": true,
   "theme": "white"
  }
 },
 "nbformat": 4,
 "nbformat_minor": 4
}
